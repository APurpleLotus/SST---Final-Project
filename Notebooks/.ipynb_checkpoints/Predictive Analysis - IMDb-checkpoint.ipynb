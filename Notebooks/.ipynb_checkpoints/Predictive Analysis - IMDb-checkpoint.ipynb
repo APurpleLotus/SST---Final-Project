{
 "cells": [
  {
   "cell_type": "code",
   "execution_count": 51,
   "id": "bc3afc0a",
   "metadata": {},
   "outputs": [],
   "source": [
    "import pandas as pd\n",
    "from sklearn.linear_model import LinearRegression\n",
    "from sklearn.model_selection import train_test_split\n",
    "import matplotlib.pyplot as plt\n",
    "%matplotlib inline\n",
    "from sklearn import metrics\n",
    "import numpy as np\n",
    "from numpy import nan"
   ]
  },
  {
   "cell_type": "code",
   "execution_count": 52,
   "id": "239ddaf6",
   "metadata": {},
   "outputs": [],
   "source": [
    "Budget = pd.read_csv(\"/Users/alliepanacci/Documents/GitHub/SST---Final-Project/Data/IMBdBudget.csv\")"
   ]
  },
  {
   "cell_type": "code",
   "execution_count": 53,
   "id": "06bb5af3",
   "metadata": {},
   "outputs": [
    {
     "data": {
      "text/html": [
       "<div>\n",
       "<style scoped>\n",
       "    .dataframe tbody tr th:only-of-type {\n",
       "        vertical-align: middle;\n",
       "    }\n",
       "\n",
       "    .dataframe tbody tr th {\n",
       "        vertical-align: top;\n",
       "    }\n",
       "\n",
       "    .dataframe thead th {\n",
       "        text-align: right;\n",
       "    }\n",
       "</style>\n",
       "<table border=\"1\" class=\"dataframe\">\n",
       "  <thead>\n",
       "    <tr style=\"text-align: right;\">\n",
       "      <th></th>\n",
       "      <th>IMBdRating</th>\n",
       "      <th>Unnamed: 1</th>\n",
       "      <th>Unnamed: 2</th>\n",
       "      <th>Unnamed: 3</th>\n",
       "      <th>Unnamed: 4</th>\n",
       "      <th>Unnamed: 5</th>\n",
       "    </tr>\n",
       "  </thead>\n",
       "  <tbody>\n",
       "    <tr>\n",
       "      <th>0</th>\n",
       "      <td>NaN</td>\n",
       "      <td>Title</td>\n",
       "      <td>IMDb-Rating</td>\n",
       "      <td>Category</td>\n",
       "      <td>ReleaseYear</td>\n",
       "      <td>Budget(Mil)</td>\n",
       "    </tr>\n",
       "    <tr>\n",
       "      <th>1</th>\n",
       "      <td>29.0</td>\n",
       "      <td>Mission: Impossible - Fallout</td>\n",
       "      <td>7.7</td>\n",
       "      <td>Action,Adventure,Thriller</td>\n",
       "      <td>2018</td>\n",
       "      <td>178</td>\n",
       "    </tr>\n",
       "    <tr>\n",
       "      <th>2</th>\n",
       "      <td>146.0</td>\n",
       "      <td>K.G.F: Chapter 1</td>\n",
       "      <td>8.2</td>\n",
       "      <td>Action,Crime,Drama</td>\n",
       "      <td>2018</td>\n",
       "      <td>12</td>\n",
       "    </tr>\n",
       "    <tr>\n",
       "      <th>3</th>\n",
       "      <td>102.0</td>\n",
       "      <td>Spider-Man: Into the Spider-Verse</td>\n",
       "      <td>8.4</td>\n",
       "      <td>Animation,Action,Adventure</td>\n",
       "      <td>2018</td>\n",
       "      <td>90</td>\n",
       "    </tr>\n",
       "    <tr>\n",
       "      <th>4</th>\n",
       "      <td>101.0</td>\n",
       "      <td>Deadpool 2</td>\n",
       "      <td>7.7</td>\n",
       "      <td>Action,Adventure,Comedy</td>\n",
       "      <td>2018</td>\n",
       "      <td>110</td>\n",
       "    </tr>\n",
       "    <tr>\n",
       "      <th>...</th>\n",
       "      <td>...</td>\n",
       "      <td>...</td>\n",
       "      <td>...</td>\n",
       "      <td>...</td>\n",
       "      <td>...</td>\n",
       "      <td>...</td>\n",
       "    </tr>\n",
       "    <tr>\n",
       "      <th>65</th>\n",
       "      <td>32.0</td>\n",
       "      <td>K.G.F: Chapter 2</td>\n",
       "      <td>8.6</td>\n",
       "      <td>Action,Crime,Drama</td>\n",
       "      <td>2022</td>\n",
       "      <td>13</td>\n",
       "    </tr>\n",
       "    <tr>\n",
       "      <th>66</th>\n",
       "      <td>6.0</td>\n",
       "      <td>RRR (Rise Roar Revolt)</td>\n",
       "      <td>8.1</td>\n",
       "      <td>Action,Drama</td>\n",
       "      <td>2022</td>\n",
       "      <td>72</td>\n",
       "    </tr>\n",
       "    <tr>\n",
       "      <th>67</th>\n",
       "      <td>2.0</td>\n",
       "      <td>The Batman</td>\n",
       "      <td>7.9</td>\n",
       "      <td>Action,Crime,Drama</td>\n",
       "      <td>2022</td>\n",
       "      <td>185</td>\n",
       "    </tr>\n",
       "    <tr>\n",
       "      <th>68</th>\n",
       "      <td>1.0</td>\n",
       "      <td>Everything Everywhere All at Once</td>\n",
       "      <td>8.3</td>\n",
       "      <td>Action,Adventure,Comedy</td>\n",
       "      <td>2022</td>\n",
       "      <td>25</td>\n",
       "    </tr>\n",
       "    <tr>\n",
       "      <th>69</th>\n",
       "      <td>0.0</td>\n",
       "      <td>Top Gun: Maverick</td>\n",
       "      <td>8.6</td>\n",
       "      <td>Action,Drama</td>\n",
       "      <td>2022</td>\n",
       "      <td>170</td>\n",
       "    </tr>\n",
       "  </tbody>\n",
       "</table>\n",
       "<p>70 rows × 6 columns</p>\n",
       "</div>"
      ],
      "text/plain": [
       "    IMBdRating                         Unnamed: 1   Unnamed: 2  \\\n",
       "0          NaN                              Title  IMDb-Rating   \n",
       "1         29.0      Mission: Impossible - Fallout          7.7   \n",
       "2        146.0                   K.G.F: Chapter 1          8.2   \n",
       "3        102.0  Spider-Man: Into the Spider-Verse          8.4   \n",
       "4        101.0                         Deadpool 2          7.7   \n",
       "..         ...                                ...          ...   \n",
       "65        32.0                   K.G.F: Chapter 2          8.6   \n",
       "66         6.0             RRR (Rise Roar Revolt)          8.1   \n",
       "67         2.0                         The Batman          7.9   \n",
       "68         1.0  Everything Everywhere All at Once          8.3   \n",
       "69         0.0                  Top Gun: Maverick          8.6   \n",
       "\n",
       "                    Unnamed: 3   Unnamed: 4   Unnamed: 5  \n",
       "0                     Category  ReleaseYear  Budget(Mil)  \n",
       "1    Action,Adventure,Thriller         2018          178  \n",
       "2           Action,Crime,Drama         2018           12  \n",
       "3   Animation,Action,Adventure         2018           90  \n",
       "4      Action,Adventure,Comedy         2018          110  \n",
       "..                         ...          ...          ...  \n",
       "65          Action,Crime,Drama         2022           13  \n",
       "66                Action,Drama         2022           72  \n",
       "67          Action,Crime,Drama         2022          185  \n",
       "68     Action,Adventure,Comedy         2022           25  \n",
       "69                Action,Drama         2022          170  \n",
       "\n",
       "[70 rows x 6 columns]"
      ]
     },
     "execution_count": 53,
     "metadata": {},
     "output_type": "execute_result"
    }
   ],
   "source": [
    "Budget"
   ]
  },
  {
   "cell_type": "code",
   "execution_count": 54,
   "id": "87f40a9f",
   "metadata": {},
   "outputs": [
    {
     "data": {
      "text/html": [
       "<div>\n",
       "<style scoped>\n",
       "    .dataframe tbody tr th:only-of-type {\n",
       "        vertical-align: middle;\n",
       "    }\n",
       "\n",
       "    .dataframe tbody tr th {\n",
       "        vertical-align: top;\n",
       "    }\n",
       "\n",
       "    .dataframe thead th {\n",
       "        text-align: right;\n",
       "    }\n",
       "</style>\n",
       "<table border=\"1\" class=\"dataframe\">\n",
       "  <thead>\n",
       "    <tr style=\"text-align: right;\">\n",
       "      <th></th>\n",
       "      <th>NaN</th>\n",
       "      <th>Title</th>\n",
       "      <th>IMDb-Rating</th>\n",
       "      <th>Category</th>\n",
       "      <th>ReleaseYear</th>\n",
       "      <th>Budget(Mil)</th>\n",
       "    </tr>\n",
       "  </thead>\n",
       "  <tbody>\n",
       "    <tr>\n",
       "      <th>1</th>\n",
       "      <td>29.0</td>\n",
       "      <td>Mission: Impossible - Fallout</td>\n",
       "      <td>7.7</td>\n",
       "      <td>Action,Adventure,Thriller</td>\n",
       "      <td>2018</td>\n",
       "      <td>178</td>\n",
       "    </tr>\n",
       "    <tr>\n",
       "      <th>2</th>\n",
       "      <td>146.0</td>\n",
       "      <td>K.G.F: Chapter 1</td>\n",
       "      <td>8.2</td>\n",
       "      <td>Action,Crime,Drama</td>\n",
       "      <td>2018</td>\n",
       "      <td>12</td>\n",
       "    </tr>\n",
       "    <tr>\n",
       "      <th>3</th>\n",
       "      <td>102.0</td>\n",
       "      <td>Spider-Man: Into the Spider-Verse</td>\n",
       "      <td>8.4</td>\n",
       "      <td>Animation,Action,Adventure</td>\n",
       "      <td>2018</td>\n",
       "      <td>90</td>\n",
       "    </tr>\n",
       "    <tr>\n",
       "      <th>4</th>\n",
       "      <td>101.0</td>\n",
       "      <td>Deadpool 2</td>\n",
       "      <td>7.7</td>\n",
       "      <td>Action,Adventure,Comedy</td>\n",
       "      <td>2018</td>\n",
       "      <td>110</td>\n",
       "    </tr>\n",
       "    <tr>\n",
       "      <th>5</th>\n",
       "      <td>254.0</td>\n",
       "      <td>A Star Is Born</td>\n",
       "      <td>7.6</td>\n",
       "      <td>Drama,Music,Romance</td>\n",
       "      <td>2018</td>\n",
       "      <td>36</td>\n",
       "    </tr>\n",
       "  </tbody>\n",
       "</table>\n",
       "</div>"
      ],
      "text/plain": [
       "0    NaN                              Title IMDb-Rating  \\\n",
       "1   29.0      Mission: Impossible - Fallout         7.7   \n",
       "2  146.0                   K.G.F: Chapter 1         8.2   \n",
       "3  102.0  Spider-Man: Into the Spider-Verse         8.4   \n",
       "4  101.0                         Deadpool 2         7.7   \n",
       "5  254.0                     A Star Is Born         7.6   \n",
       "\n",
       "0                    Category ReleaseYear Budget(Mil)  \n",
       "1   Action,Adventure,Thriller        2018         178  \n",
       "2          Action,Crime,Drama        2018          12  \n",
       "3  Animation,Action,Adventure        2018          90  \n",
       "4     Action,Adventure,Comedy        2018         110  \n",
       "5         Drama,Music,Romance        2018          36  "
      ]
     },
     "execution_count": 54,
     "metadata": {},
     "output_type": "execute_result"
    }
   ],
   "source": [
    "Budget.columns = Budget.iloc[0] \n",
    "\n",
    "Budget = Budget[1:]\n",
    "\n",
    "Budget.head()"
   ]
  },
  {
   "cell_type": "markdown",
   "id": "bddda639",
   "metadata": {},
   "source": [
    "#Goal is to see the effect the budget has on movie ratings."
   ]
  },
  {
   "cell_type": "code",
   "execution_count": 55,
   "id": "c2ed5146",
   "metadata": {},
   "outputs": [
    {
     "data": {
      "text/plain": [
       "True"
      ]
     },
     "execution_count": 55,
     "metadata": {},
     "output_type": "execute_result"
    }
   ],
   "source": [
    "Budget['Budget(Mil)'].isnull().values.any()"
   ]
  },
  {
   "cell_type": "code",
   "execution_count": 56,
   "id": "8dd15386",
   "metadata": {},
   "outputs": [
    {
     "data": {
      "text/html": [
       "<div>\n",
       "<style scoped>\n",
       "    .dataframe tbody tr th:only-of-type {\n",
       "        vertical-align: middle;\n",
       "    }\n",
       "\n",
       "    .dataframe tbody tr th {\n",
       "        vertical-align: top;\n",
       "    }\n",
       "\n",
       "    .dataframe thead th {\n",
       "        text-align: right;\n",
       "    }\n",
       "</style>\n",
       "<table border=\"1\" class=\"dataframe\">\n",
       "  <thead>\n",
       "    <tr style=\"text-align: right;\">\n",
       "      <th></th>\n",
       "      <th>NaN</th>\n",
       "      <th>Title</th>\n",
       "      <th>IMDb-Rating</th>\n",
       "      <th>Category</th>\n",
       "      <th>ReleaseYear</th>\n",
       "      <th>Budget(Mil)</th>\n",
       "    </tr>\n",
       "  </thead>\n",
       "  <tbody>\n",
       "    <tr>\n",
       "      <th>37</th>\n",
       "      <td>813.0</td>\n",
       "      <td>Asuran</td>\n",
       "      <td>8.5</td>\n",
       "      <td>Action,Drama</td>\n",
       "      <td>2019</td>\n",
       "      <td>NaN</td>\n",
       "    </tr>\n",
       "    <tr>\n",
       "      <th>40</th>\n",
       "      <td>796.0</td>\n",
       "      <td>Gully Boy</td>\n",
       "      <td>7.9</td>\n",
       "      <td>Drama,Music,Romance</td>\n",
       "      <td>2019</td>\n",
       "      <td>NaN</td>\n",
       "    </tr>\n",
       "    <tr>\n",
       "      <th>48</th>\n",
       "      <td>841.0</td>\n",
       "      <td>Soorarai Pottru</td>\n",
       "      <td>8.7</td>\n",
       "      <td>Drama</td>\n",
       "      <td>2020</td>\n",
       "      <td>NaN</td>\n",
       "    </tr>\n",
       "    <tr>\n",
       "      <th>55</th>\n",
       "      <td>734.0</td>\n",
       "      <td>Shershaah</td>\n",
       "      <td>8.4</td>\n",
       "      <td>Action,Biography,Drama</td>\n",
       "      <td>2021</td>\n",
       "      <td>NaN</td>\n",
       "    </tr>\n",
       "    <tr>\n",
       "      <th>56</th>\n",
       "      <td>962.0</td>\n",
       "      <td>Drishyam 2</td>\n",
       "      <td>8.4</td>\n",
       "      <td>Crime,Drama,Thriller</td>\n",
       "      <td>2021</td>\n",
       "      <td>NaN</td>\n",
       "    </tr>\n",
       "    <tr>\n",
       "      <th>57</th>\n",
       "      <td>563.0</td>\n",
       "      <td>Jai Bhim</td>\n",
       "      <td>8.9</td>\n",
       "      <td>Crime,Drama,Mystery</td>\n",
       "      <td>2021</td>\n",
       "      <td>NaN</td>\n",
       "    </tr>\n",
       "    <tr>\n",
       "      <th>64</th>\n",
       "      <td>667.0</td>\n",
       "      <td>Sardar Udham</td>\n",
       "      <td>8.5</td>\n",
       "      <td>Biography,Crime,Drama</td>\n",
       "      <td>2021</td>\n",
       "      <td>NaN</td>\n",
       "    </tr>\n",
       "  </tbody>\n",
       "</table>\n",
       "</div>"
      ],
      "text/plain": [
       "0     NaN            Title IMDb-Rating                Category ReleaseYear  \\\n",
       "37  813.0           Asuran         8.5            Action,Drama        2019   \n",
       "40  796.0        Gully Boy         7.9     Drama,Music,Romance        2019   \n",
       "48  841.0  Soorarai Pottru         8.7                   Drama        2020   \n",
       "55  734.0        Shershaah         8.4  Action,Biography,Drama        2021   \n",
       "56  962.0       Drishyam 2         8.4    Crime,Drama,Thriller        2021   \n",
       "57  563.0         Jai Bhim         8.9     Crime,Drama,Mystery        2021   \n",
       "64  667.0     Sardar Udham         8.5   Biography,Crime,Drama        2021   \n",
       "\n",
       "0  Budget(Mil)  \n",
       "37         NaN  \n",
       "40         NaN  \n",
       "48         NaN  \n",
       "55         NaN  \n",
       "56         NaN  \n",
       "57         NaN  \n",
       "64         NaN  "
      ]
     },
     "execution_count": 56,
     "metadata": {},
     "output_type": "execute_result"
    }
   ],
   "source": [
    "Budget[Budget['Budget(Mil)'].isnull()]"
   ]
  },
  {
   "cell_type": "code",
   "execution_count": 61,
   "id": "0e975691",
   "metadata": {},
   "outputs": [],
   "source": [
    "Budget1 = Budget.dropna()"
   ]
  },
  {
   "cell_type": "code",
   "execution_count": null,
   "id": "571cb88c",
   "metadata": {},
   "outputs": [],
   "source": [
    "x = Budget1[['IMDb-Rating', 'ReleaseYear']]\n",
    "y = Budget1['Budget(Mil)']"
   ]
  },
  {
   "cell_type": "code",
   "execution_count": null,
   "id": "ecbb9f7b",
   "metadata": {},
   "outputs": [],
   "source": [
    "x_train, x_test, y_train, y_test = train_test_split(x,y, test_size = .4)"
   ]
  },
  {
   "cell_type": "code",
   "execution_count": null,
   "id": "282e0a5e",
   "metadata": {},
   "outputs": [],
   "source": [
    "print(x_train.shape, y_train.shape)\n",
    "print(x_test.shape, y_test.shape)"
   ]
  },
  {
   "cell_type": "markdown",
   "id": "36e79b25",
   "metadata": {},
   "source": [
    "#Data is wrangled and ready to run a train test split"
   ]
  },
  {
   "cell_type": "code",
   "execution_count": null,
   "id": "767c993d",
   "metadata": {},
   "outputs": [],
   "source": [
    "lm = LinearRegression()\n",
    "lm.fit(x_train, y_train)"
   ]
  },
  {
   "cell_type": "code",
   "execution_count": 66,
   "id": "e83622ae",
   "metadata": {},
   "outputs": [
    {
     "data": {
      "text/plain": [
       "array([56.03351927, 62.08100364, 56.03351927, 56.03351927, 40.77720758,\n",
       "       52.00186302, 78.48283016, 56.03351927, 50.85634819, 89.7074856 ,\n",
       "       63.22651847, 54.88800444, 50.85634819, 60.06517551, 97.77079809,\n",
       "       54.88800444, 54.88800444, 44.80886383, 68.128488  , 40.77720758,\n",
       "       93.73914184, 44.80886383, 60.06517551, 38.76137946, 46.82469195])"
      ]
     },
     "execution_count": 66,
     "metadata": {},
     "output_type": "execute_result"
    }
   ],
   "source": [
    "predictions = lm.predict(x_test)\n",
    "predictions"
   ]
  },
  {
   "cell_type": "code",
   "execution_count": 67,
   "id": "14aead88",
   "metadata": {},
   "outputs": [
    {
     "data": {
      "text/plain": [
       "<matplotlib.collections.PathCollection at 0x7ffa700f0fa0>"
      ]
     },
     "execution_count": 67,
     "metadata": {},
     "output_type": "execute_result"
    },
    {
     "data": {
      "image/png": "[encoded data removed]",
      "text/plain": [
       "<Figure size 432x288 with 1 Axes>"
      ]
     },
     "metadata": {
      "needs_background": "light"
     },
     "output_type": "display_data"
    }
   ],
   "source": [
    "plt.scatter(y_test, predictions)"
   ]
  },
  {
   "cell_type": "code",
   "execution_count": 68,
   "id": "c31f343c",
   "metadata": {},
   "outputs": [
    {
     "name": "stdout",
     "output_type": "stream",
     "text": [
      "Score: -0.05079476252707371\n"
     ]
    }
   ],
   "source": [
    "print(\"Score:\", lm.score(x_test, y_test))"
   ]
  },
  {
   "cell_type": "code",
   "execution_count": 69,
   "id": "d45393d2",
   "metadata": {},
   "outputs": [
    {
     "data": {
      "text/plain": [
       "61.1764745641044"
      ]
     },
     "execution_count": 69,
     "metadata": {},
     "output_type": "execute_result"
    }
   ],
   "source": [
    "metrics.mean_absolute_error(y_test, predictions)"
   ]
  },
  {
   "cell_type": "markdown",
   "id": "559142b1",
   "metadata": {},
   "source": [
    "#Model is not good, there is not enough data or variables to accurately create a model."
   ]
  },
  {
   "cell_type": "code",
   "execution_count": null,
   "id": "fde60bff",
   "metadata": {},
   "outputs": [],
   "source": []
  }
 ],
 "metadata": {
  "kernelspec": {
   "display_name": "Python 3 (ipykernel)",
   "language": "python",
   "name": "python3"
  },
  "language_info": {
   "codemirror_mode": {
    "name": "ipython",
    "version": 3
   },
   "file_extension": ".py",
   "mimetype": "text/x-python",
   "name": "python",
   "nbconvert_exporter": "python",
   "pygments_lexer": "ipython3",
   "version": "3.9.7"
  }
 },
 "nbformat": 4,
 "nbformat_minor": 5
}
